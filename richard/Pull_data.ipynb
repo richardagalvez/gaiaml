{
 "cells": [
  {
   "cell_type": "markdown",
   "metadata": {},
   "source": [
    "# GAIA DR2\n"
   ]
  },
  {
   "cell_type": "code",
   "execution_count": 1,
   "metadata": {},
   "outputs": [
    {
     "name": "stdout",
     "output_type": "stream",
     "text": [
      "Created TAP+ (v1.0.1) - Connection:\n",
      "\tHost: gea.esac.esa.int\n",
      "\tUse HTTPS: False\n",
      "\tPort: 80\n",
      "\tSSL Port: 443\n"
     ]
    },
    {
     "data": {
      "text/html": [
       "<style>.container { width:98% !important; }</style>"
      ],
      "text/plain": [
       "<IPython.core.display.HTML object>"
      ]
     },
     "metadata": {},
     "output_type": "display_data"
    }
   ],
   "source": [
    "import numpy as np\n",
    "import pandas as pd\n",
    "from astroquery.gaia import Gaia\n",
    "from IPython.core.display import display, HTML\n",
    "display(HTML(\"<style>.container { width:98% !important; }</style>\"))\n",
    "import warnings\n",
    "warnings.filterwarnings('ignore')"
   ]
  },
  {
   "cell_type": "code",
   "execution_count": 16,
   "metadata": {
    "scrolled": false
   },
   "outputs": [
    {
     "name": "stdout",
     "output_type": "stream",
     "text": [
      "Query finished.\n",
      "(2000000, 23)\n",
      "CPU times: user 2min 46s, sys: 2.47 s, total: 2min 49s\n",
      "Wall time: 11min 25s\n"
     ]
    }
   ],
   "source": [
    "%%time\n",
    "qry = \"\"\"\n",
    "SELECT TOP 2000000 dr2.random_index,\n",
    "dr2.ra, \n",
    "dr2.dec, \n",
    "parallax, \n",
    "parallax_over_error, \n",
    "pmra, \n",
    "pmdec, \n",
    "ra_dec_corr, \n",
    "ra_parallax_corr, \n",
    "ra_pmra_corr, \n",
    "ra_pmdec_corr, \n",
    "dec_parallax_corr, \n",
    "dec_pmra_corr, \n",
    "dec_pmdec_corr, \n",
    "parallax_pmra_corr, \n",
    "parallax_pmdec_corr, \n",
    "pmra_pmdec_corr,  \n",
    "phot_g_mean_mag,  \n",
    "phot_bp_mean_mag, \n",
    "phot_rp_mean_mag, \n",
    "bp_rp, \n",
    "bp_g, \n",
    "g_rp\n",
    "\n",
    "FROM gaiadr2.gaia_source as dr2\n",
    "\n",
    "WHERE parallax_over_error > 100\n",
    "AND parallax is not null\n",
    "AND pmra is not null \n",
    "AND pmdec is not null\n",
    "AND ra_dec_corr is not null\n",
    "AND ra_parallax_corr is not null\n",
    "AND ra_pmra_corr is not null\n",
    "AND ra_pmdec_corr is not null\n",
    "AND dec_parallax_corr is not null\n",
    "AND dec_pmra_corr is not null\n",
    "AND dec_pmdec_corr is not null\n",
    "AND parallax_pmra_corr is not null\n",
    "AND parallax_pmdec_corr is not null\n",
    "AND pmra_pmdec_corr is not null\n",
    "AND phot_g_mean_mag is not null  \n",
    "AND phot_bp_mean_mag is not null\n",
    "AND phot_rp_mean_mag is not null\n",
    "AND bp_rp is not null\n",
    "AND bp_g is not null\n",
    "AND g_rp is not null\n",
    "\n",
    "\"\"\"\n",
    "data = Gaia.launch_job_async(qry).get_results().to_pandas()\n",
    "data.to_csv('/bigdata1/gaia/dr2_clean.csv')\n",
    "print(data.shape)\n",
    "del data"
   ]
  },
  {
   "cell_type": "code",
   "execution_count": 29,
   "metadata": {},
   "outputs": [
    {
     "name": "stdout",
     "output_type": "stream",
     "text": [
      "Query finished.\n",
      "CPU times: user 39.7 s, sys: 592 ms, total: 40.3 s\n",
      "Wall time: 5min 17s\n"
     ]
    }
   ],
   "source": [
    "%%time\n",
    "qry = \"\"\"\n",
    "SELECT TOP 2000000 dr2.random_index,\n",
    "dr2.ra, \n",
    "dr2.dec, \n",
    "g_mean_psf_mag, \n",
    "r_mean_psf_mag, \n",
    "i_mean_psf_mag, \n",
    "z_mean_psf_mag, \n",
    "y_mean_psf_mag,\n",
    "\n",
    "g_mean_psf_mag_error, \n",
    "r_mean_psf_mag_error, \n",
    "i_mean_psf_mag_error, \n",
    "z_mean_psf_mag_error, \n",
    "y_mean_psf_mag_error,\n",
    "\n",
    "parallax, \n",
    "parallax_over_error, \n",
    "pmra, \n",
    "pmdec, \n",
    "ra_dec_corr, \n",
    "ra_parallax_corr, \n",
    "ra_pmra_corr, \n",
    "ra_pmdec_corr, \n",
    "dec_parallax_corr, \n",
    "dec_pmra_corr, \n",
    "dec_pmdec_corr, \n",
    "parallax_pmra_corr, \n",
    "parallax_pmdec_corr, \n",
    "pmra_pmdec_corr,  \n",
    "phot_g_mean_mag,  \n",
    "phot_bp_mean_mag, \n",
    "phot_rp_mean_mag, \n",
    "bp_rp, \n",
    "bp_g, \n",
    "g_rp\n",
    "\n",
    "FROM gaiadr2.panstarrs1_original_valid as ps_ov \n",
    "JOIN gaiadr2.panstarrs1_best_neighbour as ps_bn on ps_bn.original_ext_source_id = ps_ov.obj_id\n",
    "JOIN gaiadr2.gaia_source               as dr2   on dr2.source_id = ps_bn.source_id\n",
    "\n",
    "WHERE parallax_over_error > 100\n",
    "\n",
    "AND g_mean_psf_mag is not null\n",
    "AND r_mean_psf_mag is not null\n",
    "AND i_mean_psf_mag is not null\n",
    "AND z_mean_psf_mag is not null\n",
    "AND y_mean_psf_mag is not null\n",
    "AND y_mean_psf_mag_error is not null\n",
    "AND g_mean_psf_mag_error is not null\n",
    "AND r_mean_psf_mag_error is not null\n",
    "AND i_mean_psf_mag_error is not null\n",
    "AND z_mean_psf_mag_error is not null\n",
    "AND y_mean_psf_mag_error is not null\n",
    "AND parallax is not null\n",
    "AND parallax_over_error is not null \n",
    "AND pmra is not null \n",
    "AND pmdec is not null\n",
    "AND ra_dec_corr is not null\n",
    "AND ra_parallax_corr is not null\n",
    "AND ra_pmra_corr is not null\n",
    "AND ra_pmdec_corr is not null\n",
    "AND dec_parallax_corr is not null\n",
    "AND dec_pmra_corr is not null\n",
    "AND dec_pmdec_corr is not null\n",
    "AND parallax_pmra_corr is not null\n",
    "AND parallax_pmdec_corr is not null\n",
    "AND pmra_pmdec_corr is not null\n",
    "AND phot_g_mean_mag is not null  \n",
    "AND phot_bp_mean_mag is not null\n",
    "AND phot_rp_mean_mag is not null\n",
    "AND bp_rp is not null\n",
    "AND bp_g is not null\n",
    "AND g_rp is not null\n",
    "\n",
    "\"\"\"\n",
    "data = Gaia.launch_job_async(qry).get_results().to_pandas()\n",
    "data.to_csv('/bigdata1/gaia/dr2_panstars_clean.csv')\n",
    "data.shape"
   ]
  },
  {
   "cell_type": "code",
   "execution_count": 6,
   "metadata": {},
   "outputs": [],
   "source": [
    "del data "
   ]
  },
  {
   "cell_type": "code",
   "execution_count": 7,
   "metadata": {},
   "outputs": [
    {
     "name": "stdout",
     "output_type": "stream",
     "text": [
      "Query finished.\n",
      "CPU times: user 3min 54s, sys: 3.9 s, total: 3min 58s\n",
      "Wall time: 31min 32s\n"
     ]
    }
   ],
   "source": [
    "%%time\n",
    "qry = \"\"\"\n",
    "SELECT TOP 2000000 dr2.random_index,\n",
    "dr2.ra, \n",
    "dr2.dec, \n",
    "g_mean_psf_mag, \n",
    "r_mean_psf_mag, \n",
    "i_mean_psf_mag, \n",
    "z_mean_psf_mag, \n",
    "y_mean_psf_mag,\n",
    "\n",
    "g_mean_psf_mag_error, \n",
    "r_mean_psf_mag_error, \n",
    "i_mean_psf_mag_error, \n",
    "z_mean_psf_mag_error, \n",
    "y_mean_psf_mag_error,\n",
    "\n",
    "parallax, \n",
    "parallax_over_error, \n",
    "pmra, \n",
    "pmdec, \n",
    "ra_dec_corr, \n",
    "ra_parallax_corr, \n",
    "ra_pmra_corr, \n",
    "ra_pmdec_corr, \n",
    "dec_parallax_corr, \n",
    "dec_pmra_corr, \n",
    "dec_pmdec_corr, \n",
    "parallax_pmra_corr, \n",
    "parallax_pmdec_corr, \n",
    "pmra_pmdec_corr,  \n",
    "phot_g_mean_mag,  \n",
    "phot_bp_mean_mag, \n",
    "phot_rp_mean_mag, \n",
    "bp_rp, \n",
    "bp_g, \n",
    "g_rp\n",
    "\n",
    "FROM gaiadr2.panstarrs1_original_valid as ps_ov \n",
    "JOIN gaiadr2.panstarrs1_best_neighbour as ps_bn on ps_bn.original_ext_source_id = ps_ov.obj_id\n",
    "JOIN gaiadr2.gaia_source               as dr2   on dr2.source_id = ps_bn.source_id\n",
    "\n",
    "WHERE parallax is not null\n",
    "AND g_mean_psf_mag is not null\n",
    "AND r_mean_psf_mag is not null\n",
    "AND i_mean_psf_mag is not null\n",
    "AND z_mean_psf_mag is not null\n",
    "AND y_mean_psf_mag_error is not null\n",
    "AND g_mean_psf_mag_error is not null\n",
    "AND r_mean_psf_mag_error is not null\n",
    "AND i_mean_psf_mag_error is not null\n",
    "AND z_mean_psf_mag_error is not null\n",
    "AND y_mean_psf_mag_error is not null\n",
    "AND parallax is not null\n",
    "AND parallax_over_error is not null \n",
    "AND pmra is not null \n",
    "AND pmdec is not null\n",
    "AND ra_dec_corr is not null\n",
    "AND ra_parallax_corr is not null\n",
    "AND ra_pmra_corr is not null\n",
    "AND ra_pmdec_corr is not null\n",
    "AND dec_parallax_corr is not null\n",
    "AND dec_pmra_corr is not null\n",
    "AND dec_pmdec_corr is not null\n",
    "AND parallax_pmra_corr is not null\n",
    "AND parallax_pmdec_corr is not null\n",
    "AND pmra_pmdec_corr is not null\n",
    "AND phot_g_mean_mag is not null  \n",
    "AND phot_bp_mean_mag is not null\n",
    "AND phot_rp_mean_mag is not null\n",
    "AND bp_rp is not null\n",
    "AND bp_g is not null\n",
    "AND g_rp is not null\n",
    "\n",
    "\"\"\"\n",
    "data = Gaia.launch_job_async(qry).get_results().to_pandas()\n",
    "data.to_csv('/bigdata1/gaia/dr2_panstars_unclean.csv')\n",
    "data.shape"
   ]
  },
  {
   "cell_type": "code",
   "execution_count": 4,
   "metadata": {},
   "outputs": [],
   "source": [
    "del data"
   ]
  },
  {
   "cell_type": "code",
   "execution_count": 4,
   "metadata": {},
   "outputs": [
    {
     "name": "stdout",
     "output_type": "stream",
     "text": [
      "Query finished.\n",
      "CPU times: user 8min 12s, sys: 7.95 s, total: 8min 20s\n",
      "Wall time: 32min 56s\n"
     ]
    }
   ],
   "source": [
    "%%time\n",
    "qry = \"\"\"\n",
    "SELECT TOP 1000000 dr2.random_index, *\n",
    "\n",
    "FROM gaiadr2.allwise_best_neighbour    as aw_bn\n",
    "JOIN gaiadr1.allwise_original_valid    as aw_ov on aw_ov.allwise_oid = aw_bn.allwise_oid\n",
    "JOIN gaiadr2.gaia_source               as dr2   on dr2.source_id = aw_bn.source_id\n",
    "\n",
    "WHERE dr2.parallax_over_error > 100\n",
    "AND dr2.parallax > 0\n",
    "AND dr2.pmra is not null\n",
    "AND dr2.pmdec is not null\n",
    "\"\"\"\n",
    "data = Gaia.launch_job_async(qry).get_results().to_pandas()\n",
    "data.to_csv('/bigdata1/gaia/dr2_allwise_clean.csv')\n",
    "data.shape"
   ]
  },
  {
   "cell_type": "code",
   "execution_count": 5,
   "metadata": {},
   "outputs": [],
   "source": [
    "del data"
   ]
  },
  {
   "cell_type": "code",
   "execution_count": 5,
   "metadata": {},
   "outputs": [
    {
     "name": "stdout",
     "output_type": "stream",
     "text": [
      "Query finished.\n",
      "CPU times: user 2min 48s, sys: 2.59 s, total: 2min 50s\n",
      "Wall time: 11min 17s\n"
     ]
    }
   ],
   "source": [
    "%%time\n",
    "qry = \"\"\"\n",
    "SELECT TOP 2000000 dr2.random_index,\n",
    "dr2.ra, \n",
    "dr2.dec, \n",
    "parallax, \n",
    "parallax_over_error, \n",
    "pmra, \n",
    "pmdec, \n",
    "ra_dec_corr, \n",
    "ra_parallax_corr, \n",
    "ra_pmra_corr, \n",
    "ra_pmdec_corr, \n",
    "dec_parallax_corr, \n",
    "dec_pmra_corr, \n",
    "dec_pmdec_corr, \n",
    "parallax_pmra_corr, \n",
    "parallax_pmdec_corr, \n",
    "pmra_pmdec_corr,  \n",
    "phot_g_mean_mag,  \n",
    "phot_bp_mean_mag, \n",
    "phot_rp_mean_mag, \n",
    "bp_rp, \n",
    "bp_g, \n",
    "g_rp\n",
    "\n",
    "FROM gaiadr2.gaia_source as dr2\n",
    "\n",
    "WHERE parallax is not null\n",
    "AND pmra is not null \n",
    "AND pmdec is not null\n",
    "AND ra_dec_corr is not null\n",
    "AND ra_parallax_corr is not null\n",
    "AND ra_pmra_corr is not null\n",
    "AND ra_pmdec_corr is not null\n",
    "AND dec_parallax_corr is not null\n",
    "AND dec_pmra_corr is not null\n",
    "AND dec_pmdec_corr is not null\n",
    "AND parallax_pmra_corr is not null\n",
    "AND parallax_pmdec_corr is not null\n",
    "AND pmra_pmdec_corr is not null\n",
    "AND phot_g_mean_mag is not null  \n",
    "AND phot_bp_mean_mag is not null\n",
    "AND phot_rp_mean_mag is not null\n",
    "AND bp_rp is not null\n",
    "AND bp_g is not null\n",
    "AND g_rp is not null\n",
    "\n",
    "\"\"\"\n",
    "data = Gaia.launch_job_async(qry).get_results().to_pandas()\n",
    "data.to_csv('/bigdata1/gaia/dr2_unclean.csv')\n",
    "data.shape"
   ]
  },
  {
   "cell_type": "code",
   "execution_count": 3,
   "metadata": {},
   "outputs": [],
   "source": [
    "del data"
   ]
  },
  {
   "cell_type": "code",
   "execution_count": null,
   "metadata": {},
   "outputs": [],
   "source": [
    "%%time\n",
    "qry = \"\"\"\n",
    "SELECT TOP 1000000 dr2.random_index, *\n",
    "FROM gaiadr2.gaia_source as dr2\n",
    "WHERE dr2.parallax is not null\n",
    "AND dr2.pmra is not null\n",
    "AND dr2.pmdec is not null\n",
    "AND dr2.radial_velocity is not null\n",
    "AND dr2.parallax_over_error > 100\n",
    "\"\"\"\n",
    "data = Gaia.launch_job_async(qry).get_results().to_pandas()\n",
    "data.to_csv('/bigdata1/gaia/radial_velocity_dr2_clean.csv')"
   ]
  }
 ],
 "metadata": {
  "kernelspec": {
   "display_name": "Python 3",
   "language": "python",
   "name": "python3"
  },
  "language_info": {
   "codemirror_mode": {
    "name": "ipython",
    "version": 3
   },
   "file_extension": ".py",
   "mimetype": "text/x-python",
   "name": "python",
   "nbconvert_exporter": "python",
   "pygments_lexer": "ipython3",
   "version": "3.7.0"
  }
 },
 "nbformat": 4,
 "nbformat_minor": 2
}
